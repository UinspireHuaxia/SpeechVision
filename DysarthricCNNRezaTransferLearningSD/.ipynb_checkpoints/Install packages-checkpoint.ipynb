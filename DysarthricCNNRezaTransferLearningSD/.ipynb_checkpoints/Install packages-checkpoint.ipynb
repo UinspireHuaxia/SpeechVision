{
 "cells": [
  {
   "cell_type": "code",
   "execution_count": null,
   "metadata": {},
   "outputs": [
    {
     "name": "stdout",
     "output_type": "stream",
     "text": [
      "Collecting scikit-learn (from -r requirements.txt (line 1))\n",
      "\u001b[?25l  Downloading https://files.pythonhosted.org/packages/38/7f/7d21bd89a97603a14d3770ca912d4402c394a8e50642f9b8b5cc6867a61a/scikit_learn-0.20.3-cp35-cp35m-manylinux1_x86_64.whl (5.3MB)\n",
      "\u001b[K    100% |████████████████████████████████| 5.3MB 6.0MB/s eta 0:00:011                      | 1.4MB 60.0MB/s eta 0:00:01████████████████▌        | 3.9MB 102.1MB/s eta 0:00:01\n",
      "\u001b[?25hCollecting scipy (from -r requirements.txt (line 2))\n",
      "\u001b[?25l  Downloading https://files.pythonhosted.org/packages/f0/30/526bee2ce18c066f9ff13ba89603f6c2b96c9fd406b57a21a7ba14bf5679/scipy-1.2.1-cp35-cp35m-manylinux1_x86_64.whl (24.7MB)\n",
      "\u001b[K    100% |████████████████████████████████| 24.7MB 2.0MB/s eta 0:00:011 |███▋                            | 2.8MB 24.2MB/s eta 0:00:01   23% |███████▋                        | 5.8MB 59.0MB/s eta 0:00:01   | 8.7MB 98.2MB/s eta 0:00:01    46% |██████████████▊                 | 11.4MB 94.6MB/s eta 0:00:0113.7MB 98.4MB/s eta 0:00:01███▉           | 16.1MB 62.7MB/s eta 0:00:01�████████████████▊        | 18.3MB 38.1MB/s eta 0:00:01�██████▏     | 20.2MB 54.8MB/s eta 0:00:01  | 22.2MB 76.7MB/s eta 0:00:01ta 0:00:01\n",
      "\u001b[?25hRequirement already satisfied: numpy in /usr/local/lib/python3.5/dist-packages (from -r requirements.txt (line 3)) (1.16.2)\n",
      "Collecting pandas (from -r requirements.txt (line 4))\n",
      "\u001b[?25l  Downloading https://files.pythonhosted.org/packages/74/24/0cdbf8907e1e3bc5a8da03345c23cbed7044330bb8f73bb12e711a640a00/pandas-0.24.2-cp35-cp35m-manylinux1_x86_64.whl (10.0MB)\n",
      "\u001b[K    100% |████████████████████████████████| 10.0MB 3.8MB/s eta 0:00:01███████▎                        | 2.3MB 105.2MB/s eta 0:00:01��███▌           | 6.4MB 84.9MB/s eta 0:00:01s eta 0:00:01\n",
      "\u001b[?25hCollecting pyprog (from -r requirements.txt (line 5))\n",
      "  Downloading https://files.pythonhosted.org/packages/ae/60/ec4fc4c62e25aed5b163364b294b0cafe88a0932092bfc2086444afadfb0/pyprog-1.1.0.post0-py2.py3-none-any.whl\n",
      "Requirement already satisfied: matplotlib in /usr/local/lib/python3.5/dist-packages (from -r requirements.txt (line 6)) (3.0.2)\n",
      "Collecting pillow (from -r requirements.txt (line 7))\n",
      "\u001b[?25l  Downloading https://files.pythonhosted.org/packages/de/62/6358ccd27b9e340affaa29e3e678b5d93a4b17f6bd7533fd6e6e87930b12/Pillow-6.0.0-cp35-cp35m-manylinux1_x86_64.whl (2.0MB)\n",
      "\u001b[K    100% |████████████████████████████████| 2.0MB 32.0MB/s ta 0:00:011\n",
      "\u001b[?25hCollecting keras (from -r requirements.txt (line 8))\n",
      "\u001b[?25l  Downloading https://files.pythonhosted.org/packages/5e/10/aa32dad071ce52b5502266b5c659451cfd6ffcbf14e6c8c4f16c0ff5aaab/Keras-2.2.4-py2.py3-none-any.whl (312kB)\n",
      "\u001b[K    100% |████████████████████████████████| 317kB 46.2MB/s ta 0:00:01\n",
      "\u001b[?25hCollecting pytz>=2011k (from pandas->-r requirements.txt (line 4))\n",
      "\u001b[?25l  Downloading https://files.pythonhosted.org/packages/3d/73/fe30c2daaaa0713420d0382b16fbb761409f532c56bdcc514bf7b6262bb6/pytz-2019.1-py2.py3-none-any.whl (510kB)\n",
      "\u001b[K    100% |████████████████████████████████| 512kB 44.5MB/s ta 0:00:01\n",
      "\u001b[?25hRequirement already satisfied: python-dateutil>=2.5.0 in /usr/local/lib/python3.5/dist-packages (from pandas->-r requirements.txt (line 4)) (2.8.0)\n",
      "Requirement already satisfied: kiwisolver>=1.0.1 in /usr/local/lib/python3.5/dist-packages (from matplotlib->-r requirements.txt (line 6)) (1.0.1)\n",
      "Requirement already satisfied: pyparsing!=2.0.4,!=2.1.2,!=2.1.6,>=2.0.1 in /usr/local/lib/python3.5/dist-packages (from matplotlib->-r requirements.txt (line 6)) (2.3.1)\n",
      "Requirement already satisfied: cycler>=0.10 in /usr/local/lib/python3.5/dist-packages (from matplotlib->-r requirements.txt (line 6)) (0.10.0)\n",
      "Requirement already satisfied: six>=1.9.0 in /usr/local/lib/python3.5/dist-packages (from keras->-r requirements.txt (line 8)) (1.12.0)\n",
      "Collecting pyyaml (from keras->-r requirements.txt (line 8))\n",
      "\u001b[?25l  Downloading https://files.pythonhosted.org/packages/9f/2c/9417b5c774792634834e730932745bc09a7d36754ca00acf1ccd1ac2594d/PyYAML-5.1.tar.gz (274kB)\n",
      "\u001b[K    100% |████████████████████████████████| 276kB 58.4MB/s ta 0:00:011\n",
      "\u001b[?25hRequirement already satisfied: keras-applications>=1.0.6 in /usr/local/lib/python3.5/dist-packages (from keras->-r requirements.txt (line 8)) (1.0.7)\n",
      "Requirement already satisfied: h5py in /usr/local/lib/python3.5/dist-packages (from keras->-r requirements.txt (line 8)) (2.9.0)\n",
      "Requirement already satisfied: keras-preprocessing>=1.0.5 in /usr/local/lib/python3.5/dist-packages (from keras->-r requirements.txt (line 8)) (1.0.9)\n",
      "Requirement already satisfied: setuptools in /usr/local/lib/python3.5/dist-packages (from kiwisolver>=1.0.1->matplotlib->-r requirements.txt (line 6)) (40.8.0)\n",
      "Building wheels for collected packages: pyyaml\n",
      "  Building wheel for pyyaml (setup.py) ... \u001b[?25ldone\n",
      "\u001b[?25h  Stored in directory: /root/.cache/pip/wheels/ad/56/bc/1522f864feb2a358ea6f1a92b4798d69ac783a28e80567a18b\n",
      "Successfully built pyyaml\n",
      "Installing collected packages: scipy, scikit-learn, pytz, pandas, pyprog, pillow, pyyaml, keras\n",
      "Successfully installed keras-2.2.4 pandas-0.24.2 pillow-6.0.0 pyprog-1.1.0.post0 pytz-2019.1 pyyaml-5.1 scikit-learn-0.20.3 scipy-1.2.1\n",
      "\u001b[33mYou are using pip version 19.0.3, however version 19.1 is available.\n",
      "You should consider upgrading via the 'pip install --upgrade pip' command.\u001b[0m\n"
     ]
    }
   ],
   "source": [
    "!pip install -r requirements.txt"
   ]
  },
  {
   "cell_type": "code",
   "execution_count": null,
   "metadata": {},
   "outputs": [],
   "source": []
  }
 ],
 "metadata": {
  "kernelspec": {
   "display_name": "Python 3",
   "language": "python",
   "name": "python3"
  },
  "language_info": {
   "codemirror_mode": {
    "name": "ipython",
    "version": 3
   },
   "file_extension": ".py",
   "mimetype": "text/x-python",
   "name": "python",
   "nbconvert_exporter": "python",
   "pygments_lexer": "ipython3",
   "version": "3.6.8"
  }
 },
 "nbformat": 4,
 "nbformat_minor": 2
}
